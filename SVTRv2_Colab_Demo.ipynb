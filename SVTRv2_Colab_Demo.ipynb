# Install dependencies
!pip install torch torchvision pillow matplotlib numpy
!pip install opencv-python-headless  # Colab-friendly version

import torch
import torch.nn as nn
import torch.nn.functional as F
import numpy as np
import matplotlib.pyplot as plt
from PIL import Image
import string
from typing import List, Tuple, Dict
import math

print(f"PyTorch version: {torch.__version__}")
print(f"Device: {'GPU' if torch.cuda.is_available() else 'CPU'}")# SVTRv2 Text Recognition - Google Colab Demo

This notebook allows you to run SVTRv2 text recognition on your own images!

## Steps:
1. Run setup cells
2. Upload your images
3. Get text recognition results

[![Open In Colab](https://colab.research.google.com/assets/colab-badge.svg)](https://colab.research.google.com/github/your-repo/blob/main/SVTRv2_Colab_Demo.ipynb)